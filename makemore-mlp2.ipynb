{
 "cells": [
  {
   "cell_type": "code",
   "execution_count": 1,
   "metadata": {},
   "outputs": [],
   "source": [
    "import torch\n",
    "import torch.nn.functional as F\n",
    "import matplotlib.pyplot as plt\n",
    "%matplotlib inline"
   ]
  },
  {
   "cell_type": "code",
   "execution_count": 2,
   "metadata": {},
   "outputs": [],
   "source": [
    "words = open('names.txt', 'r').read().splitlines()"
   ]
  },
  {
   "cell_type": "code",
   "execution_count": 3,
   "metadata": {},
   "outputs": [],
   "source": [
    "chars = sorted(list(set(''.join(words))))\n",
    "stoi = {s:i+1 for i, s in enumerate(chars)}\n",
    "stoi['.'] = 0\n",
    "itos = {i:s for s, i in stoi.items()}"
   ]
  },
  {
   "cell_type": "code",
   "execution_count": 4,
   "metadata": {},
   "outputs": [
    {
     "name": "stdout",
     "output_type": "stream",
     "text": [
      "torch.Size([182625, 3]) torch.Size([182625])\n",
      "torch.Size([22655, 3]) torch.Size([22655])\n",
      "torch.Size([22866, 3]) torch.Size([22866])\n"
     ]
    }
   ],
   "source": [
    "#build the dataset\n",
    "\n",
    "block_size = 3 #context size\n",
    "\n",
    "def build_dataset(words):\n",
    "    X, Y = [], []\n",
    "\n",
    "    for w in words:\n",
    "        context = [0] * block_size\n",
    "        for ch in w + '.':\n",
    "            ix = stoi[ch]\n",
    "            X.append(context)\n",
    "            Y.append(ix)\n",
    "            context = context[1:] + [ix] #update context\n",
    "\n",
    "    X = torch.tensor(X)\n",
    "    Y = torch.tensor(Y)\n",
    "    print(X.shape, Y.shape)\n",
    "    return X,Y\n",
    "    \n",
    "\n",
    "import random\n",
    "\n",
    "random.seed(42)\n",
    "random.shuffle(words)\n",
    "n1 = int(0.8 * len(words))\n",
    "n2 = int(0.9 * len(words))\n",
    "\n",
    "Xtr, Ytr = build_dataset(words[:n1])\n",
    "Xdev, Ydev = build_dataset(words[n1:n2])\n",
    "Xte, Yte = build_dataset(words[n2:])"
   ]
  },
  {
   "cell_type": "code",
   "execution_count": 13,
   "metadata": {},
   "outputs": [
    {
     "data": {
      "text/plain": [
       "12297"
      ]
     },
     "execution_count": 13,
     "metadata": {},
     "output_type": "execute_result"
    }
   ],
   "source": [
    "#Initializing parameters\n",
    "\n",
    "dim = 10 #dimensionality of the embedding space\n",
    "n_hidden = 200 #number of neurons in hidden layer\n",
    "g = torch.Generator().manual_seed(2147483647) #seed\n",
    "C = torch.rand((27,dim), generator = g) # embedding matrix #we try higher dimensional embeddings\n",
    "\n",
    "#hidden layer\n",
    "W1 = torch.rand((dim * block_size, n_hidden), generator = g) * (5/3) / ((dim * block_size) ** 0.5)   # Scaling factor from Kaiming Init. Unsaturates activations\n",
    "b1 = torch.rand(n_hidden, generator = g) * 0.01\n",
    "\n",
    "#out layer\n",
    "W2 = torch.rand((n_hidden,27), generator = g) * 0.01\n",
    "b2 = torch.rand(27, generator = g) * 0\n",
    "\n",
    "#batch normalization parameters\n",
    "bngain = torch.ones((1,n_hidden)) #scale batchnorm\n",
    "bnbias = torch.zeros((1,n_hidden)) #shifts batchnorm\n",
    "\n",
    "#Parameters\n",
    "parameters = [C, W1, b1, W2, b2, bngain, bnbias]\n",
    "\n",
    "for p in parameters:\n",
    "    p.requires_grad = True\n",
    "\n",
    "sum(p.nelement() for p in parameters) #tot number of params"
   ]
  },
  {
   "cell_type": "code",
   "execution_count": 14,
   "metadata": {},
   "outputs": [
    {
     "name": "stdout",
     "output_type": "stream",
     "text": [
      "      0/ 200000: 3.3017, lr: 0.1\n",
      "  10000/ 200000: 2.0919, lr: 0.1\n",
      "  20000/ 200000: 2.5715, lr: 0.1\n",
      "  30000/ 200000: 2.3209, lr: 0.1\n",
      "  40000/ 200000: 2.4239, lr: 0.1\n",
      "  50000/ 200000: 1.8494, lr: 0.1\n",
      "  60000/ 200000: 2.2892, lr: 0.1\n",
      "  70000/ 200000: 2.0708, lr: 0.1\n",
      "  80000/ 200000: 2.0551, lr: 0.1\n",
      "  90000/ 200000: 2.3757, lr: 0.1\n",
      " 100000/ 200000: 1.7404, lr: 0.01\n",
      " 110000/ 200000: 2.2935, lr: 0.01\n",
      " 120000/ 200000: 2.2244, lr: 0.01\n",
      " 130000/ 200000: 1.7147, lr: 0.01\n",
      " 140000/ 200000: 1.9250, lr: 0.01\n",
      " 150000/ 200000: 2.0749, lr: 0.01\n",
      " 160000/ 200000: 1.7201, lr: 0.01\n",
      " 170000/ 200000: 1.6890, lr: 0.01\n",
      " 180000/ 200000: 2.2001, lr: 0.01\n",
      " 190000/ 200000: 1.9094, lr: 0.01\n"
     ]
    }
   ],
   "source": [
    "lossi = []\n",
    "max_steps = 200000\n",
    "batch_size = 32\n",
    "#training params\n",
    "for i in range(max_steps):\n",
    "\n",
    "    #minibatch construct\n",
    "    ix = torch.randint(0, Xtr.shape[0], (batch_size,)) #selects 32 random elements of the dataset.\n",
    "\n",
    "    #forward pass\n",
    "    emb = C[Xtr[ix]] #embedding characters in minibatch into vectors\n",
    "    embcat = emb.view(-1, dim * block_size) #concatenate the vectors\n",
    "    hpreact = embcat @ W1 + b1 #hidden layer pre-activation \n",
    "    \n",
    "    hpreact = bngain * (hpreact - hpreact.mean(0, keepdim=True)) / hpreact.std(0,keepdim=True) + bnbias # implementing batch normalization\n",
    "\n",
    "    h = torch.tanh(hpreact) #activations of hidden layer\n",
    "\n",
    "    logits = h @ W2 + b2 #output layer\n",
    "    loss = F.cross_entropy(logits, Ytr[ix]) #built-in PyTorch. Optimized/ much more efficient. Much easier backward pass. More numerically \"well-behaved\" (handling of extreme values).\n",
    "\n",
    "    #backward pass\n",
    "    for p in parameters:\n",
    "        p.grad = None #setting grad to 0\n",
    "    loss.backward()\n",
    "\n",
    "    #update parameters\n",
    "    #lr0 = 0.5 # initial lr\n",
    "    #r = 0.0001 # decay rate\n",
    "    #lr = lr0 / (1 + r*i) # learning rate decay\n",
    "    lr = 0.1 if i < 100000 else 0.01\n",
    "    for p in parameters:\n",
    "        p.data += -lr * p.grad \n",
    "\n",
    "    # track stats\n",
    "    if i % 10000 == 0: # print every once in a while\n",
    "        print(f'{i:7d}/{max_steps:7d}: {loss.item():.4f}, lr: {lr}')\n",
    "    lossi.append(loss.log10().item())"
   ]
  },
  {
   "cell_type": "code",
   "execution_count": 15,
   "metadata": {},
   "outputs": [
    {
     "data": {
      "text/plain": [
       "[<matplotlib.lines.Line2D at 0x7ced60f4cfa0>]"
      ]
     },
     "execution_count": 15,
     "metadata": {},
     "output_type": "execute_result"
    },
    {
     "data": {
      "image/png": "[encoded data removed]",
      "text/plain": [
       "<Figure size 640x480 with 1 Axes>"
      ]
     },
     "metadata": {},
     "output_type": "display_data"
    }
   ],
   "source": [
    "plt.plot(lossi)"
   ]
  },
  {
   "cell_type": "code",
   "execution_count": 21,
   "metadata": {},
   "outputs": [
    {
     "name": "stdout",
     "output_type": "stream",
     "text": [
      "train 2.059373140335083\n",
      "val 2.102989673614502\n"
     ]
    }
   ],
   "source": [
    "@torch.no_grad() # this decorator disables gradient tracking\n",
    "def split_loss(split):\n",
    "  x,y = {\n",
    "    'train': (Xtr, Ytr),\n",
    "    'val': (Xdev, Ydev),\n",
    "    'test': (Xte, Yte),\n",
    "  }[split]\n",
    "  emb = C[x] # (N, block_size, n_embd)\n",
    "  embcat = emb.view(-1, dim * block_size) #concatenate the vectors\n",
    "  hpreact = embcat @ W1 + b1 #hidden layer pre-activation \n",
    "  hpreact = bngain * (hpreact - hpreact.mean(0, keepdim=True)) / hpreact.std(0,keepdim=True) + bnbias # implementing batch normalization\n",
    "  h = torch.tanh(hpreact) # (N, N_hidden)\n",
    "  logits = h @ W2 + b2 # (N, vocab_size)\n",
    "  loss = F.cross_entropy(logits, y)\n",
    "  print(split, loss.item())\n",
    "\n",
    "split_loss('train')\n",
    "split_loss('val')"
   ]
  },
  {
   "cell_type": "code",
   "execution_count": 23,
   "metadata": {},
   "outputs": [
    {
     "name": "stdout",
     "output_type": "stream",
     "text": [
      "lilozil\n",
      "doxsezinilay\n",
      "sstrtyn\n",
      "cykend\n",
      "bilesieela\n",
      "kwuwikyissadaynsleiskova\n",
      "zealeyni\n",
      "ziliveminiliyashidwadeelysxiy\n",
      "phaqexmaeersynsnalynnnelennyshniqatib\n",
      "deniesstntiyesintsieveilseynip\n"
     ]
    }
   ],
   "source": [
    "def generate_names():\n",
    "    out = []\n",
    "    context = [0] * block_size\n",
    "    while True:\n",
    "        emb = C[torch.tensor([context])] #(1, block_size, dim of embedding)\n",
    "        h = torch.tanh(emb.view(1, -1) @ W1 + b1)\n",
    "        logits = h @ W2 + b2\n",
    "        probs = F.softmax(logits, dim=1)\n",
    "        ix = torch.multinomial(probs, num_samples=1, generator = g).item() #samples from prob distribution\n",
    "        context = context[1:] + [ix]\n",
    "        if ix == 0:\n",
    "            return (''.join(itos[i] for i in out))\n",
    "        out.append(ix)\n",
    "\n",
    "for _ in range(10):\n",
    "    print(generate_names())"
   ]
  },
  {
   "cell_type": "code",
   "execution_count": null,
   "metadata": {},
   "outputs": [],
   "source": []
  }
 ],
 "metadata": {
  "kernelspec": {
   "display_name": "Python 3",
   "language": "python",
   "name": "python3"
  },
  "language_info": {
   "codemirror_mode": {
    "name": "ipython",
    "version": 3
   },
   "file_extension": ".py",
   "mimetype": "text/x-python",
   "name": "python",
   "nbconvert_exporter": "python",
   "pygments_lexer": "ipython3",
   "version": "3.10.13"
  }
 },
 "nbformat": 4,
 "nbformat_minor": 2
}
